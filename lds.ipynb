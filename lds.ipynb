{
 "cells": [
  {
   "cell_type": "code",
   "execution_count": 1,
   "id": "31380325-13ae-4d20-ae8d-ce77ee20338f",
   "metadata": {},
   "outputs": [
    {
     "name": "stdout",
     "output_type": "stream",
     "text": [
      "updated list: [10, 2, 4, 5, 6]\n"
     ]
    }
   ],
   "source": [
    "my_list=[1,2,3,4,5]\n",
    "my_list.append(6)\n",
    "my_list.remove(3)\n",
    "my_list[0]=10\n",
    "print(\"updated list:\",my_list)\n"
   ]
  },
  {
   "cell_type": "code",
   "execution_count": 4,
   "id": "f93d4cb4-db93-499f-86f0-8d1e1715b31e",
   "metadata": {},
   "outputs": [
    {
     "name": "stdout",
     "output_type": "stream",
     "text": [
      "Updated dictionary: {'name': 'John', 'city': 'Mumbai', 'gender': 'Male'}\n"
     ]
    }
   ],
   "source": [
    "my_dict={'name':'John','age':'25','city':'Delhi'}\n",
    "my_dict['gender']='Male'\n",
    "del my_dict['age']\n",
    "my_dict['city']='Mumbai'\n",
    "print(\"Updated dictionary:\",my_dict)\n",
    "\n",
    "        "
   ]
  },
  {
   "cell_type": "code",
   "execution_count": 5,
   "id": "9123df98-0b4c-4bdd-be82-66e833083b1c",
   "metadata": {},
   "outputs": [
    {
     "name": "stdout",
     "output_type": "stream",
     "text": [
      "Updated set: {2, 4, 5, 6, 10}\n"
     ]
    }
   ],
   "source": [
    "my_set={1,2,3,4,5}\n",
    "my_set.add(6)\n",
    "my_set.remove(3)\n",
    "my_set.discard(1)\n",
    "my_set.add(10)\n",
    "print(\"Updated set:\",my_set)"
   ]
  },
  {
   "cell_type": "code",
   "execution_count": null,
   "id": "40a55776-15f2-41fc-9ebb-2ebb4acb9abe",
   "metadata": {},
   "outputs": [],
   "source": []
  }
 ],
 "metadata": {
  "kernelspec": {
   "display_name": "Python 3 (ipykernel)",
   "language": "python",
   "name": "python3"
  },
  "language_info": {
   "codemirror_mode": {
    "name": "ipython",
    "version": 3
   },
   "file_extension": ".py",
   "mimetype": "text/x-python",
   "name": "python",
   "nbconvert_exporter": "python",
   "pygments_lexer": "ipython3",
   "version": "3.12.4"
  }
 },
 "nbformat": 4,
 "nbformat_minor": 5
}
